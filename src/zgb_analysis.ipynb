{
 "cells": [
  {
   "cell_type": "markdown",
   "id": "1fff4638",
   "metadata": {},
   "source": [
    "# ZGB Analysis:"
   ]
  },
  {
   "cell_type": "code",
   "execution_count": 108,
   "id": "543e809e",
   "metadata": {},
   "outputs": [],
   "source": [
    "import pandas as pd\n",
    "import numpy as np\n",
    "import seaborn as sb\n",
    "import matplotlib as mpt\n",
    "import matplotlib.pyplot as plt"
   ]
  },
  {
   "cell_type": "markdown",
   "id": "20cf58e7",
   "metadata": {},
   "source": [
    "## Beginner Tasks: "
   ]
  },
  {
   "cell_type": "markdown",
   "id": "165e7015",
   "metadata": {},
   "source": [
    "### 1. Load the dataset and display the first 10 rows. Explore column types (`.info()` and `.describe()`)."
   ]
  },
  {
   "cell_type": "code",
   "execution_count": 101,
   "id": "ba733cc3",
   "metadata": {},
   "outputs": [
    {
     "name": "stdout",
     "output_type": "stream",
     "text": [
      "<class 'pandas.core.frame.DataFrame'>\n",
      "RangeIndex: 10 entries, 0 to 9\n",
      "Data columns (total 24 columns):\n",
      " #   Column                Non-Null Count  Dtype \n",
      "---  ------                --------------  ----- \n",
      " 0   track_name            10 non-null     object\n",
      " 1   artist(s)_name        10 non-null     object\n",
      " 2   artist_count          10 non-null     int64 \n",
      " 3   released_year         10 non-null     int64 \n",
      " 4   released_month        10 non-null     int64 \n",
      " 5   released_day          10 non-null     int64 \n",
      " 6   in_spotify_playlists  10 non-null     int64 \n",
      " 7   in_spotify_charts     10 non-null     int64 \n",
      " 8   streams               10 non-null     object\n",
      " 9   in_apple_playlists    10 non-null     int64 \n",
      " 10  in_apple_charts       10 non-null     int64 \n",
      " 11  in_deezer_playlists   10 non-null     object\n",
      " 12  in_deezer_charts      10 non-null     int64 \n",
      " 13  in_shazam_charts      10 non-null     object\n",
      " 14  bpm                   10 non-null     int64 \n",
      " 15  key                   10 non-null     object\n",
      " 16  mode                  10 non-null     object\n",
      " 17  danceability_%        10 non-null     int64 \n",
      " 18  valence_%             10 non-null     int64 \n",
      " 19  energy_%              10 non-null     int64 \n",
      " 20  acousticness_%        10 non-null     int64 \n",
      " 21  instrumentalness_%    10 non-null     int64 \n",
      " 22  liveness_%            10 non-null     int64 \n",
      " 23  speechiness_%         10 non-null     int64 \n",
      "dtypes: int64(17), object(7)\n",
      "memory usage: 2.0+ KB\n"
     ]
    },
    {
     "data": {
      "text/html": [
       "<div>\n",
       "<style scoped>\n",
       "    .dataframe tbody tr th:only-of-type {\n",
       "        vertical-align: middle;\n",
       "    }\n",
       "\n",
       "    .dataframe tbody tr th {\n",
       "        vertical-align: top;\n",
       "    }\n",
       "\n",
       "    .dataframe thead th {\n",
       "        text-align: right;\n",
       "    }\n",
       "</style>\n",
       "<table border=\"1\" class=\"dataframe\">\n",
       "  <thead>\n",
       "    <tr style=\"text-align: right;\">\n",
       "      <th></th>\n",
       "      <th>artist_count</th>\n",
       "      <th>released_year</th>\n",
       "      <th>released_month</th>\n",
       "      <th>released_day</th>\n",
       "      <th>in_spotify_playlists</th>\n",
       "      <th>in_spotify_charts</th>\n",
       "      <th>in_apple_playlists</th>\n",
       "      <th>in_apple_charts</th>\n",
       "      <th>in_deezer_charts</th>\n",
       "      <th>bpm</th>\n",
       "      <th>danceability_%</th>\n",
       "      <th>valence_%</th>\n",
       "      <th>energy_%</th>\n",
       "      <th>acousticness_%</th>\n",
       "      <th>instrumentalness_%</th>\n",
       "      <th>liveness_%</th>\n",
       "      <th>speechiness_%</th>\n",
       "    </tr>\n",
       "  </thead>\n",
       "  <tbody>\n",
       "    <tr>\n",
       "      <th>count</th>\n",
       "      <td>10.000000</td>\n",
       "      <td>10.000000</td>\n",
       "      <td>10.000000</td>\n",
       "      <td>10.000000</td>\n",
       "      <td>10.000000</td>\n",
       "      <td>10.000000</td>\n",
       "      <td>10.000000</td>\n",
       "      <td>10.000000</td>\n",
       "      <td>10.000000</td>\n",
       "      <td>10.000000</td>\n",
       "      <td>10.000000</td>\n",
       "      <td>10.000000</td>\n",
       "      <td>10.000000</td>\n",
       "      <td>10.000000</td>\n",
       "      <td>10.000000</td>\n",
       "      <td>10.000000</td>\n",
       "      <td>10.000000</td>\n",
       "    </tr>\n",
       "    <tr>\n",
       "      <th>mean</th>\n",
       "      <td>1.400000</td>\n",
       "      <td>2022.600000</td>\n",
       "      <td>5.300000</td>\n",
       "      <td>16.400000</td>\n",
       "      <td>2445.400000</td>\n",
       "      <td>76.900000</td>\n",
       "      <td>62.000000</td>\n",
       "      <td>178.000000</td>\n",
       "      <td>13.200000</td>\n",
       "      <td>135.800000</td>\n",
       "      <td>71.400000</td>\n",
       "      <td>51.600000</td>\n",
       "      <td>67.700000</td>\n",
       "      <td>21.700000</td>\n",
       "      <td>6.300000</td>\n",
       "      <td>13.400000</td>\n",
       "      <td>10.800000</td>\n",
       "    </tr>\n",
       "    <tr>\n",
       "      <th>std</th>\n",
       "      <td>0.516398</td>\n",
       "      <td>1.264911</td>\n",
       "      <td>1.828782</td>\n",
       "      <td>8.221922</td>\n",
       "      <td>2133.126355</td>\n",
       "      <td>35.747416</td>\n",
       "      <td>28.542366</td>\n",
       "      <td>58.086143</td>\n",
       "      <td>1.988858</td>\n",
       "      <td>25.685275</td>\n",
       "      <td>13.082643</td>\n",
       "      <td>24.663063</td>\n",
       "      <td>11.804425</td>\n",
       "      <td>13.021777</td>\n",
       "      <td>19.922349</td>\n",
       "      <td>8.617811</td>\n",
       "      <td>10.184956</td>\n",
       "    </tr>\n",
       "    <tr>\n",
       "      <th>min</th>\n",
       "      <td>1.000000</td>\n",
       "      <td>2019.000000</td>\n",
       "      <td>3.000000</td>\n",
       "      <td>1.000000</td>\n",
       "      <td>553.000000</td>\n",
       "      <td>43.000000</td>\n",
       "      <td>25.000000</td>\n",
       "      <td>89.000000</td>\n",
       "      <td>10.000000</td>\n",
       "      <td>92.000000</td>\n",
       "      <td>51.000000</td>\n",
       "      <td>22.000000</td>\n",
       "      <td>48.000000</td>\n",
       "      <td>7.000000</td>\n",
       "      <td>0.000000</td>\n",
       "      <td>8.000000</td>\n",
       "      <td>3.000000</td>\n",
       "    </tr>\n",
       "    <tr>\n",
       "      <th>25%</th>\n",
       "      <td>1.000000</td>\n",
       "      <td>2023.000000</td>\n",
       "      <td>3.500000</td>\n",
       "      <td>14.250000</td>\n",
       "      <td>1171.250000</td>\n",
       "      <td>48.500000</td>\n",
       "      <td>44.250000</td>\n",
       "      <td>127.750000</td>\n",
       "      <td>12.250000</td>\n",
       "      <td>126.250000</td>\n",
       "      <td>65.500000</td>\n",
       "      <td>27.500000</td>\n",
       "      <td>59.000000</td>\n",
       "      <td>12.500000</td>\n",
       "      <td>0.000000</td>\n",
       "      <td>8.000000</td>\n",
       "      <td>4.000000</td>\n",
       "    </tr>\n",
       "    <tr>\n",
       "      <th>50%</th>\n",
       "      <td>1.000000</td>\n",
       "      <td>2023.000000</td>\n",
       "      <td>5.500000</td>\n",
       "      <td>16.500000</td>\n",
       "      <td>1830.000000</td>\n",
       "      <td>66.500000</td>\n",
       "      <td>54.500000</td>\n",
       "      <td>207.000000</td>\n",
       "      <td>13.000000</td>\n",
       "      <td>139.500000</td>\n",
       "      <td>69.000000</td>\n",
       "      <td>57.000000</td>\n",
       "      <td>71.500000</td>\n",
       "      <td>18.000000</td>\n",
       "      <td>0.000000</td>\n",
       "      <td>10.500000</td>\n",
       "      <td>6.000000</td>\n",
       "    </tr>\n",
       "    <tr>\n",
       "      <th>75%</th>\n",
       "      <td>2.000000</td>\n",
       "      <td>2023.000000</td>\n",
       "      <td>6.750000</td>\n",
       "      <td>21.750000</td>\n",
       "      <td>3055.750000</td>\n",
       "      <td>97.750000</td>\n",
       "      <td>79.750000</td>\n",
       "      <td>212.250000</td>\n",
       "      <td>14.000000</td>\n",
       "      <td>147.000000</td>\n",
       "      <td>80.750000</td>\n",
       "      <td>64.750000</td>\n",
       "      <td>75.500000</td>\n",
       "      <td>28.500000</td>\n",
       "      <td>0.000000</td>\n",
       "      <td>11.000000</td>\n",
       "      <td>13.500000</td>\n",
       "    </tr>\n",
       "    <tr>\n",
       "      <th>max</th>\n",
       "      <td>2.000000</td>\n",
       "      <td>2023.000000</td>\n",
       "      <td>8.000000</td>\n",
       "      <td>30.000000</td>\n",
       "      <td>7858.000000</td>\n",
       "      <td>147.000000</td>\n",
       "      <td>116.000000</td>\n",
       "      <td>263.000000</td>\n",
       "      <td>17.000000</td>\n",
       "      <td>170.000000</td>\n",
       "      <td>92.000000</td>\n",
       "      <td>89.000000</td>\n",
       "      <td>83.000000</td>\n",
       "      <td>48.000000</td>\n",
       "      <td>63.000000</td>\n",
       "      <td>31.000000</td>\n",
       "      <td>33.000000</td>\n",
       "    </tr>\n",
       "  </tbody>\n",
       "</table>\n",
       "</div>"
      ],
      "text/plain": [
       "       artist_count  released_year  released_month  released_day  \\\n",
       "count     10.000000      10.000000       10.000000     10.000000   \n",
       "mean       1.400000    2022.600000        5.300000     16.400000   \n",
       "std        0.516398       1.264911        1.828782      8.221922   \n",
       "min        1.000000    2019.000000        3.000000      1.000000   \n",
       "25%        1.000000    2023.000000        3.500000     14.250000   \n",
       "50%        1.000000    2023.000000        5.500000     16.500000   \n",
       "75%        2.000000    2023.000000        6.750000     21.750000   \n",
       "max        2.000000    2023.000000        8.000000     30.000000   \n",
       "\n",
       "       in_spotify_playlists  in_spotify_charts  in_apple_playlists  \\\n",
       "count             10.000000          10.000000           10.000000   \n",
       "mean            2445.400000          76.900000           62.000000   \n",
       "std             2133.126355          35.747416           28.542366   \n",
       "min              553.000000          43.000000           25.000000   \n",
       "25%             1171.250000          48.500000           44.250000   \n",
       "50%             1830.000000          66.500000           54.500000   \n",
       "75%             3055.750000          97.750000           79.750000   \n",
       "max             7858.000000         147.000000          116.000000   \n",
       "\n",
       "       in_apple_charts  in_deezer_charts         bpm  danceability_%  \\\n",
       "count        10.000000         10.000000   10.000000       10.000000   \n",
       "mean        178.000000         13.200000  135.800000       71.400000   \n",
       "std          58.086143          1.988858   25.685275       13.082643   \n",
       "min          89.000000         10.000000   92.000000       51.000000   \n",
       "25%         127.750000         12.250000  126.250000       65.500000   \n",
       "50%         207.000000         13.000000  139.500000       69.000000   \n",
       "75%         212.250000         14.000000  147.000000       80.750000   \n",
       "max         263.000000         17.000000  170.000000       92.000000   \n",
       "\n",
       "       valence_%   energy_%  acousticness_%  instrumentalness_%  liveness_%  \\\n",
       "count  10.000000  10.000000       10.000000           10.000000   10.000000   \n",
       "mean   51.600000  67.700000       21.700000            6.300000   13.400000   \n",
       "std    24.663063  11.804425       13.021777           19.922349    8.617811   \n",
       "min    22.000000  48.000000        7.000000            0.000000    8.000000   \n",
       "25%    27.500000  59.000000       12.500000            0.000000    8.000000   \n",
       "50%    57.000000  71.500000       18.000000            0.000000   10.500000   \n",
       "75%    64.750000  75.500000       28.500000            0.000000   11.000000   \n",
       "max    89.000000  83.000000       48.000000           63.000000   31.000000   \n",
       "\n",
       "       speechiness_%  \n",
       "count      10.000000  \n",
       "mean       10.800000  \n",
       "std        10.184956  \n",
       "min         3.000000  \n",
       "25%         4.000000  \n",
       "50%         6.000000  \n",
       "75%        13.500000  \n",
       "max        33.000000  "
      ]
     },
     "execution_count": 101,
     "metadata": {},
     "output_type": "execute_result"
    }
   ],
   "source": [
    "df = pd.read_csv('../dataset/data1.csv',encoding=\"latin1\")\n",
    "\n",
    "df.head(10).info()\n",
    "\n",
    "df.head(10).describe()"
   ]
  },
  {
   "cell_type": "markdown",
   "id": "bca7f6a1",
   "metadata": {},
   "source": [
    "Personal Observations: \n",
    "\n",
    "- the function **`.info()`**  \n",
    "  - Shows me column names, data types, and if values are null.  \n",
    "  - Useful because sometimes I *think* a column has a type, but it’s actually different (like numbers stored as text).  \n",
    "  - Helps me get a quick overview of the dataset structure.  \n",
    "\n",
    "- the function **`.describe()`**  \n",
    "  - Gives me the main stats for numeric columns (mean, min, max, quartiles, etc.).  \n",
    "  - Useful to see the general spread of values and check if something looks off.  \n",
    "  - Comparing mean vs median can hint at skewed data, alongside quartiles."
   ]
  },
  {
   "cell_type": "markdown",
   "id": "5ab136e4",
   "metadata": {},
   "source": [
    "### 2. Count how many unique artists are in the dataset."
   ]
  },
  {
   "cell_type": "code",
   "execution_count": 102,
   "id": "89e2d814",
   "metadata": {},
   "outputs": [
    {
     "data": {
      "text/plain": [
       "645"
      ]
     },
     "execution_count": 102,
     "metadata": {},
     "output_type": "execute_result"
    }
   ],
   "source": [
    "df[\"artist(s)_name\"].unique().size"
   ]
  },
  {
   "cell_type": "code",
   "execution_count": 103,
   "id": "94ae319c",
   "metadata": {},
   "outputs": [
    {
     "data": {
      "text/plain": [
       "645"
      ]
     },
     "execution_count": 103,
     "metadata": {},
     "output_type": "execute_result"
    }
   ],
   "source": [
    "df[\"artist(s)_name\"].nunique()"
   ]
  },
  {
   "cell_type": "markdown",
   "id": "0134bc1d",
   "metadata": {},
   "source": [
    "Personal Observation\n",
    "\n",
    "- at first glance both functions do the same, but the key difference is that the first one creates another array, then counts its elements.  \n",
    "- with a smaller dataset, like ours, this wouldn’t be an inconvenience.  \n",
    "- but with larger ones the second option is best practice, since it does exactly what is required: counting unique values directly in the dataframe column."
   ]
  },
  {
   "cell_type": "markdown",
   "id": "87e1e7b6",
   "metadata": {},
   "source": [
    "### 3. Find the most common release year for tracks."
   ]
  },
  {
   "cell_type": "code",
   "execution_count": 104,
   "id": "cce14a32",
   "metadata": {},
   "outputs": [
    {
     "data": {
      "text/plain": [
       "track_name              2022\n",
       "artist(s)_name          2022\n",
       "artist_count            2022\n",
       "released_month          2022\n",
       "released_day            2022\n",
       "in_spotify_playlists    2022\n",
       "in_spotify_charts       2022\n",
       "streams                 2022\n",
       "in_apple_playlists      2022\n",
       "in_apple_charts         2022\n",
       "in_deezer_playlists     2022\n",
       "in_deezer_charts        2022\n",
       "in_shazam_charts        2022\n",
       "bpm                     2022\n",
       "key                     2022\n",
       "mode                    2022\n",
       "danceability_%          2022\n",
       "valence_%               2022\n",
       "energy_%                2022\n",
       "acousticness_%          2022\n",
       "instrumentalness_%      2022\n",
       "liveness_%              2022\n",
       "speechiness_%           2022\n",
       "dtype: int64"
      ]
     },
     "execution_count": 104,
     "metadata": {},
     "output_type": "execute_result"
    }
   ],
   "source": [
    "df.groupby('released_year').count().idxmax()"
   ]
  },
  {
   "cell_type": "markdown",
   "id": "33aca6c5",
   "metadata": {},
   "source": [
    "Solution:"
   ]
  },
  {
   "cell_type": "code",
   "execution_count": 105,
   "id": "c8d01480",
   "metadata": {},
   "outputs": [
    {
     "name": "stdout",
     "output_type": "stream",
     "text": [
      "2022\n"
     ]
    }
   ],
   "source": [
    "print(df['released_year'].mode()[0])"
   ]
  },
  {
   "cell_type": "code",
   "execution_count": 106,
   "id": "7db644e9",
   "metadata": {},
   "outputs": [
    {
     "name": "stdout",
     "output_type": "stream",
     "text": [
      "2022\n"
     ]
    }
   ],
   "source": [
    "print(df['released_year'].value_counts().idxmax())"
   ]
  },
  {
   "cell_type": "markdown",
   "id": "86288c93",
   "metadata": {},
   "source": [
    "How I think the way of tackling this task should be\n",
    "\n",
    "- `mode` is a statistical metric that basically tells me which value is the most frequent.  \n",
    "- since the question was to find the most common release year, this matches exactly what was required.  \n",
    "\n",
    ">Note : Another option i found is to use `.value_counts()` which gives me all the frequencies, and then `.idxmax()` picks the year with the highest count.  "
   ]
  },
  {
   "cell_type": "markdown",
   "id": "ddd2beb9",
   "metadata": {},
   "source": [
    "### 4. Plot a histogram of `streams`. Apply a log transformation if the distribution is heavily skewed."
   ]
  },
  {
   "cell_type": "code",
   "execution_count": null,
   "id": "7c372bb5",
   "metadata": {},
   "outputs": [],
   "source": [
    "mask = df[\"streams\"].str.isnumeric()\n",
    "df = df[mask]\n",
    "df[\"streams\"] = df[\"streams\"].str.replace(\",\", \"\").astype(int)"
   ]
  },
  {
   "cell_type": "code",
   "execution_count": 144,
   "id": "85a93ae0",
   "metadata": {},
   "outputs": [
    {
     "data": {
      "text/plain": [
       "<Axes: xlabel='streams_millions', ylabel='Count'>"
      ]
     },
     "execution_count": 144,
     "metadata": {},
     "output_type": "execute_result"
    },
    {
     "data": {
      "image/png": "[encoded data removed]",
      "text/plain": [
       "<Figure size 640x480 with 1 Axes>"
      ]
     },
     "metadata": {},
     "output_type": "display_data"
    }
   ],
   "source": [
    "df[\"streams_millions\"] = df[\"streams\"] / 1000000\n",
    "sb.histplot(data=df,x=\"streams_millions\")"
   ]
  },
  {
   "cell_type": "markdown",
   "id": "d01e48b2",
   "metadata": {},
   "source": [
    "My Thought Process\n",
    "\n",
    "- after checking the `streams` column, I noticed that some rows had characters other than numbers, so I removed those.  \n",
    "- then I converted the column from strings to integers.  \n",
    "- next, I divided the number of streams by one million to make the histogram and distribution easier to read.  \n",
    "- looking at the histogram, the values are clearly right-skewed, which means a transformation (like log scaling) is needed to better understand the distribution.(to be added)\n"
   ]
  }
 ],
 "metadata": {
  "kernelspec": {
   "display_name": ".venv",
   "language": "python",
   "name": "python3"
  },
  "language_info": {
   "codemirror_mode": {
    "name": "ipython",
    "version": 3
   },
   "file_extension": ".py",
   "mimetype": "text/x-python",
   "name": "python",
   "nbconvert_exporter": "python",
   "pygments_lexer": "ipython3",
   "version": "3.13.2"
  }
 },
 "nbformat": 4,
 "nbformat_minor": 5
}
